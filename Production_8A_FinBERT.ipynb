{
  "nbformat": 4,
  "nbformat_minor": 0,
  "metadata": {
    "colab": {
      "provenance": [],
      "gpuType": "V100",
      "machine_shape": "hm",
      "authorship_tag": "ABX9TyOuXLKZxVinVW9YfAJfungE",
      "include_colab_link": true
    },
    "kernelspec": {
      "name": "python3",
      "display_name": "Python 3"
    },
    "language_info": {
      "name": "python"
    },
    "accelerator": "GPU",
    "widgets": {
      "application/vnd.jupyter.widget-state+json": {
        "7f3374efb1bd4cbd871c5dc8deb7ef41": {
          "model_module": "@jupyter-widgets/controls",
          "model_name": "HBoxModel",
          "model_module_version": "1.5.0",
          "state": {
            "_dom_classes": [],
            "_model_module": "@jupyter-widgets/controls",
            "_model_module_version": "1.5.0",
            "_model_name": "HBoxModel",
            "_view_count": null,
            "_view_module": "@jupyter-widgets/controls",
            "_view_module_version": "1.5.0",
            "_view_name": "HBoxView",
            "box_style": "",
            "children": [
              "IPY_MODEL_5153c81427a84ecc876379379eaa1783",
              "IPY_MODEL_100a803ed1a24e0788eb68f3d5eedf54",
              "IPY_MODEL_0d9e869432ad4a3896c6e756bcae06e3"
            ],
            "layout": "IPY_MODEL_2fee5e6e848b44c1a15508399dc9d6eb"
          }
        },
        "5153c81427a84ecc876379379eaa1783": {
          "model_module": "@jupyter-widgets/controls",
          "model_name": "HTMLModel",
          "model_module_version": "1.5.0",
          "state": {
            "_dom_classes": [],
            "_model_module": "@jupyter-widgets/controls",
            "_model_module_version": "1.5.0",
            "_model_name": "HTMLModel",
            "_view_count": null,
            "_view_module": "@jupyter-widgets/controls",
            "_view_module_version": "1.5.0",
            "_view_name": "HTMLView",
            "description": "",
            "description_tooltip": null,
            "layout": "IPY_MODEL_76f37e95525b4817881918b8e3f5f031",
            "placeholder": "​",
            "style": "IPY_MODEL_d572bfd948914007a0f1e8a1837d8c16",
            "value": "Map: 100%"
          }
        },
        "100a803ed1a24e0788eb68f3d5eedf54": {
          "model_module": "@jupyter-widgets/controls",
          "model_name": "FloatProgressModel",
          "model_module_version": "1.5.0",
          "state": {
            "_dom_classes": [],
            "_model_module": "@jupyter-widgets/controls",
            "_model_module_version": "1.5.0",
            "_model_name": "FloatProgressModel",
            "_view_count": null,
            "_view_module": "@jupyter-widgets/controls",
            "_view_module_version": "1.5.0",
            "_view_name": "ProgressView",
            "bar_style": "success",
            "description": "",
            "description_tooltip": null,
            "layout": "IPY_MODEL_2ad1c170a01a4d97949136dfb994c982",
            "max": 31737,
            "min": 0,
            "orientation": "horizontal",
            "style": "IPY_MODEL_c29e00a0c7a345e28d0c52f872d0d539",
            "value": 31737
          }
        },
        "0d9e869432ad4a3896c6e756bcae06e3": {
          "model_module": "@jupyter-widgets/controls",
          "model_name": "HTMLModel",
          "model_module_version": "1.5.0",
          "state": {
            "_dom_classes": [],
            "_model_module": "@jupyter-widgets/controls",
            "_model_module_version": "1.5.0",
            "_model_name": "HTMLModel",
            "_view_count": null,
            "_view_module": "@jupyter-widgets/controls",
            "_view_module_version": "1.5.0",
            "_view_name": "HTMLView",
            "description": "",
            "description_tooltip": null,
            "layout": "IPY_MODEL_6b6847dbcfab46f19fc4f7ce4ebf8094",
            "placeholder": "​",
            "style": "IPY_MODEL_7ecece2a94f243a582579158eb95de8f",
            "value": " 31737/31737 [00:04&lt;00:00, 8166.97 examples/s]"
          }
        },
        "2fee5e6e848b44c1a15508399dc9d6eb": {
          "model_module": "@jupyter-widgets/base",
          "model_name": "LayoutModel",
          "model_module_version": "1.2.0",
          "state": {
            "_model_module": "@jupyter-widgets/base",
            "_model_module_version": "1.2.0",
            "_model_name": "LayoutModel",
            "_view_count": null,
            "_view_module": "@jupyter-widgets/base",
            "_view_module_version": "1.2.0",
            "_view_name": "LayoutView",
            "align_content": null,
            "align_items": null,
            "align_self": null,
            "border": null,
            "bottom": null,
            "display": null,
            "flex": null,
            "flex_flow": null,
            "grid_area": null,
            "grid_auto_columns": null,
            "grid_auto_flow": null,
            "grid_auto_rows": null,
            "grid_column": null,
            "grid_gap": null,
            "grid_row": null,
            "grid_template_areas": null,
            "grid_template_columns": null,
            "grid_template_rows": null,
            "height": null,
            "justify_content": null,
            "justify_items": null,
            "left": null,
            "margin": null,
            "max_height": null,
            "max_width": null,
            "min_height": null,
            "min_width": null,
            "object_fit": null,
            "object_position": null,
            "order": null,
            "overflow": null,
            "overflow_x": null,
            "overflow_y": null,
            "padding": null,
            "right": null,
            "top": null,
            "visibility": null,
            "width": null
          }
        },
        "76f37e95525b4817881918b8e3f5f031": {
          "model_module": "@jupyter-widgets/base",
          "model_name": "LayoutModel",
          "model_module_version": "1.2.0",
          "state": {
            "_model_module": "@jupyter-widgets/base",
            "_model_module_version": "1.2.0",
            "_model_name": "LayoutModel",
            "_view_count": null,
            "_view_module": "@jupyter-widgets/base",
            "_view_module_version": "1.2.0",
            "_view_name": "LayoutView",
            "align_content": null,
            "align_items": null,
            "align_self": null,
            "border": null,
            "bottom": null,
            "display": null,
            "flex": null,
            "flex_flow": null,
            "grid_area": null,
            "grid_auto_columns": null,
            "grid_auto_flow": null,
            "grid_auto_rows": null,
            "grid_column": null,
            "grid_gap": null,
            "grid_row": null,
            "grid_template_areas": null,
            "grid_template_columns": null,
            "grid_template_rows": null,
            "height": null,
            "justify_content": null,
            "justify_items": null,
            "left": null,
            "margin": null,
            "max_height": null,
            "max_width": null,
            "min_height": null,
            "min_width": null,
            "object_fit": null,
            "object_position": null,
            "order": null,
            "overflow": null,
            "overflow_x": null,
            "overflow_y": null,
            "padding": null,
            "right": null,
            "top": null,
            "visibility": null,
            "width": null
          }
        },
        "d572bfd948914007a0f1e8a1837d8c16": {
          "model_module": "@jupyter-widgets/controls",
          "model_name": "DescriptionStyleModel",
          "model_module_version": "1.5.0",
          "state": {
            "_model_module": "@jupyter-widgets/controls",
            "_model_module_version": "1.5.0",
            "_model_name": "DescriptionStyleModel",
            "_view_count": null,
            "_view_module": "@jupyter-widgets/base",
            "_view_module_version": "1.2.0",
            "_view_name": "StyleView",
            "description_width": ""
          }
        },
        "2ad1c170a01a4d97949136dfb994c982": {
          "model_module": "@jupyter-widgets/base",
          "model_name": "LayoutModel",
          "model_module_version": "1.2.0",
          "state": {
            "_model_module": "@jupyter-widgets/base",
            "_model_module_version": "1.2.0",
            "_model_name": "LayoutModel",
            "_view_count": null,
            "_view_module": "@jupyter-widgets/base",
            "_view_module_version": "1.2.0",
            "_view_name": "LayoutView",
            "align_content": null,
            "align_items": null,
            "align_self": null,
            "border": null,
            "bottom": null,
            "display": null,
            "flex": null,
            "flex_flow": null,
            "grid_area": null,
            "grid_auto_columns": null,
            "grid_auto_flow": null,
            "grid_auto_rows": null,
            "grid_column": null,
            "grid_gap": null,
            "grid_row": null,
            "grid_template_areas": null,
            "grid_template_columns": null,
            "grid_template_rows": null,
            "height": null,
            "justify_content": null,
            "justify_items": null,
            "left": null,
            "margin": null,
            "max_height": null,
            "max_width": null,
            "min_height": null,
            "min_width": null,
            "object_fit": null,
            "object_position": null,
            "order": null,
            "overflow": null,
            "overflow_x": null,
            "overflow_y": null,
            "padding": null,
            "right": null,
            "top": null,
            "visibility": null,
            "width": null
          }
        },
        "c29e00a0c7a345e28d0c52f872d0d539": {
          "model_module": "@jupyter-widgets/controls",
          "model_name": "ProgressStyleModel",
          "model_module_version": "1.5.0",
          "state": {
            "_model_module": "@jupyter-widgets/controls",
            "_model_module_version": "1.5.0",
            "_model_name": "ProgressStyleModel",
            "_view_count": null,
            "_view_module": "@jupyter-widgets/base",
            "_view_module_version": "1.2.0",
            "_view_name": "StyleView",
            "bar_color": null,
            "description_width": ""
          }
        },
        "6b6847dbcfab46f19fc4f7ce4ebf8094": {
          "model_module": "@jupyter-widgets/base",
          "model_name": "LayoutModel",
          "model_module_version": "1.2.0",
          "state": {
            "_model_module": "@jupyter-widgets/base",
            "_model_module_version": "1.2.0",
            "_model_name": "LayoutModel",
            "_view_count": null,
            "_view_module": "@jupyter-widgets/base",
            "_view_module_version": "1.2.0",
            "_view_name": "LayoutView",
            "align_content": null,
            "align_items": null,
            "align_self": null,
            "border": null,
            "bottom": null,
            "display": null,
            "flex": null,
            "flex_flow": null,
            "grid_area": null,
            "grid_auto_columns": null,
            "grid_auto_flow": null,
            "grid_auto_rows": null,
            "grid_column": null,
            "grid_gap": null,
            "grid_row": null,
            "grid_template_areas": null,
            "grid_template_columns": null,
            "grid_template_rows": null,
            "height": null,
            "justify_content": null,
            "justify_items": null,
            "left": null,
            "margin": null,
            "max_height": null,
            "max_width": null,
            "min_height": null,
            "min_width": null,
            "object_fit": null,
            "object_position": null,
            "order": null,
            "overflow": null,
            "overflow_x": null,
            "overflow_y": null,
            "padding": null,
            "right": null,
            "top": null,
            "visibility": null,
            "width": null
          }
        },
        "7ecece2a94f243a582579158eb95de8f": {
          "model_module": "@jupyter-widgets/controls",
          "model_name": "DescriptionStyleModel",
          "model_module_version": "1.5.0",
          "state": {
            "_model_module": "@jupyter-widgets/controls",
            "_model_module_version": "1.5.0",
            "_model_name": "DescriptionStyleModel",
            "_view_count": null,
            "_view_module": "@jupyter-widgets/base",
            "_view_module_version": "1.2.0",
            "_view_name": "StyleView",
            "description_width": ""
          }
        },
        "d61ed47104734d8f80a1fc09f9b0faa6": {
          "model_module": "@jupyter-widgets/controls",
          "model_name": "HBoxModel",
          "model_module_version": "1.5.0",
          "state": {
            "_dom_classes": [],
            "_model_module": "@jupyter-widgets/controls",
            "_model_module_version": "1.5.0",
            "_model_name": "HBoxModel",
            "_view_count": null,
            "_view_module": "@jupyter-widgets/controls",
            "_view_module_version": "1.5.0",
            "_view_name": "HBoxView",
            "box_style": "",
            "children": [
              "IPY_MODEL_85f041fe6ed2495fb7ee6f5d8f313db3",
              "IPY_MODEL_b148f560f0ad46a7aac72d72b09069cc",
              "IPY_MODEL_b32181760ab24b02955522fc54a85944"
            ],
            "layout": "IPY_MODEL_63f4f795d27f4cd68daae5677d43794f"
          }
        },
        "85f041fe6ed2495fb7ee6f5d8f313db3": {
          "model_module": "@jupyter-widgets/controls",
          "model_name": "HTMLModel",
          "model_module_version": "1.5.0",
          "state": {
            "_dom_classes": [],
            "_model_module": "@jupyter-widgets/controls",
            "_model_module_version": "1.5.0",
            "_model_name": "HTMLModel",
            "_view_count": null,
            "_view_module": "@jupyter-widgets/controls",
            "_view_module_version": "1.5.0",
            "_view_name": "HTMLView",
            "description": "",
            "description_tooltip": null,
            "layout": "IPY_MODEL_4f4c5f61971344edb4ec14217d14ba6d",
            "placeholder": "​",
            "style": "IPY_MODEL_6730574669c04db78ca9e542ff513e91",
            "value": "100%"
          }
        },
        "b148f560f0ad46a7aac72d72b09069cc": {
          "model_module": "@jupyter-widgets/controls",
          "model_name": "FloatProgressModel",
          "model_module_version": "1.5.0",
          "state": {
            "_dom_classes": [],
            "_model_module": "@jupyter-widgets/controls",
            "_model_module_version": "1.5.0",
            "_model_name": "FloatProgressModel",
            "_view_count": null,
            "_view_module": "@jupyter-widgets/controls",
            "_view_module_version": "1.5.0",
            "_view_name": "ProgressView",
            "bar_style": "",
            "description": "",
            "description_tooltip": null,
            "layout": "IPY_MODEL_608e5ccabd5b4da9aa5e590fbe7065ac",
            "max": 1984,
            "min": 0,
            "orientation": "horizontal",
            "style": "IPY_MODEL_513adc6ac49a4291a4cf8513a64493d5",
            "value": 1984
          }
        },
        "b32181760ab24b02955522fc54a85944": {
          "model_module": "@jupyter-widgets/controls",
          "model_name": "HTMLModel",
          "model_module_version": "1.5.0",
          "state": {
            "_dom_classes": [],
            "_model_module": "@jupyter-widgets/controls",
            "_model_module_version": "1.5.0",
            "_model_name": "HTMLModel",
            "_view_count": null,
            "_view_module": "@jupyter-widgets/controls",
            "_view_module_version": "1.5.0",
            "_view_name": "HTMLView",
            "description": "",
            "description_tooltip": null,
            "layout": "IPY_MODEL_86b1cb16044843b687d5abaa222ae7ba",
            "placeholder": "​",
            "style": "IPY_MODEL_562fe3e13ed74ea2b567408e4b5fcae2",
            "value": " 1984/1984 [01:13&lt;00:00, 35.42it/s]"
          }
        },
        "63f4f795d27f4cd68daae5677d43794f": {
          "model_module": "@jupyter-widgets/base",
          "model_name": "LayoutModel",
          "model_module_version": "1.2.0",
          "state": {
            "_model_module": "@jupyter-widgets/base",
            "_model_module_version": "1.2.0",
            "_model_name": "LayoutModel",
            "_view_count": null,
            "_view_module": "@jupyter-widgets/base",
            "_view_module_version": "1.2.0",
            "_view_name": "LayoutView",
            "align_content": null,
            "align_items": null,
            "align_self": null,
            "border": null,
            "bottom": null,
            "display": null,
            "flex": null,
            "flex_flow": null,
            "grid_area": null,
            "grid_auto_columns": null,
            "grid_auto_flow": null,
            "grid_auto_rows": null,
            "grid_column": null,
            "grid_gap": null,
            "grid_row": null,
            "grid_template_areas": null,
            "grid_template_columns": null,
            "grid_template_rows": null,
            "height": null,
            "justify_content": null,
            "justify_items": null,
            "left": null,
            "margin": null,
            "max_height": null,
            "max_width": null,
            "min_height": null,
            "min_width": null,
            "object_fit": null,
            "object_position": null,
            "order": null,
            "overflow": null,
            "overflow_x": null,
            "overflow_y": null,
            "padding": null,
            "right": null,
            "top": null,
            "visibility": null,
            "width": null
          }
        },
        "4f4c5f61971344edb4ec14217d14ba6d": {
          "model_module": "@jupyter-widgets/base",
          "model_name": "LayoutModel",
          "model_module_version": "1.2.0",
          "state": {
            "_model_module": "@jupyter-widgets/base",
            "_model_module_version": "1.2.0",
            "_model_name": "LayoutModel",
            "_view_count": null,
            "_view_module": "@jupyter-widgets/base",
            "_view_module_version": "1.2.0",
            "_view_name": "LayoutView",
            "align_content": null,
            "align_items": null,
            "align_self": null,
            "border": null,
            "bottom": null,
            "display": null,
            "flex": null,
            "flex_flow": null,
            "grid_area": null,
            "grid_auto_columns": null,
            "grid_auto_flow": null,
            "grid_auto_rows": null,
            "grid_column": null,
            "grid_gap": null,
            "grid_row": null,
            "grid_template_areas": null,
            "grid_template_columns": null,
            "grid_template_rows": null,
            "height": null,
            "justify_content": null,
            "justify_items": null,
            "left": null,
            "margin": null,
            "max_height": null,
            "max_width": null,
            "min_height": null,
            "min_width": null,
            "object_fit": null,
            "object_position": null,
            "order": null,
            "overflow": null,
            "overflow_x": null,
            "overflow_y": null,
            "padding": null,
            "right": null,
            "top": null,
            "visibility": null,
            "width": null
          }
        },
        "6730574669c04db78ca9e542ff513e91": {
          "model_module": "@jupyter-widgets/controls",
          "model_name": "DescriptionStyleModel",
          "model_module_version": "1.5.0",
          "state": {
            "_model_module": "@jupyter-widgets/controls",
            "_model_module_version": "1.5.0",
            "_model_name": "DescriptionStyleModel",
            "_view_count": null,
            "_view_module": "@jupyter-widgets/base",
            "_view_module_version": "1.2.0",
            "_view_name": "StyleView",
            "description_width": ""
          }
        },
        "608e5ccabd5b4da9aa5e590fbe7065ac": {
          "model_module": "@jupyter-widgets/base",
          "model_name": "LayoutModel",
          "model_module_version": "1.2.0",
          "state": {
            "_model_module": "@jupyter-widgets/base",
            "_model_module_version": "1.2.0",
            "_model_name": "LayoutModel",
            "_view_count": null,
            "_view_module": "@jupyter-widgets/base",
            "_view_module_version": "1.2.0",
            "_view_name": "LayoutView",
            "align_content": null,
            "align_items": null,
            "align_self": null,
            "border": null,
            "bottom": null,
            "display": null,
            "flex": null,
            "flex_flow": null,
            "grid_area": null,
            "grid_auto_columns": null,
            "grid_auto_flow": null,
            "grid_auto_rows": null,
            "grid_column": null,
            "grid_gap": null,
            "grid_row": null,
            "grid_template_areas": null,
            "grid_template_columns": null,
            "grid_template_rows": null,
            "height": null,
            "justify_content": null,
            "justify_items": null,
            "left": null,
            "margin": null,
            "max_height": null,
            "max_width": null,
            "min_height": null,
            "min_width": null,
            "object_fit": null,
            "object_position": null,
            "order": null,
            "overflow": null,
            "overflow_x": null,
            "overflow_y": null,
            "padding": null,
            "right": null,
            "top": null,
            "visibility": null,
            "width": null
          }
        },
        "513adc6ac49a4291a4cf8513a64493d5": {
          "model_module": "@jupyter-widgets/controls",
          "model_name": "ProgressStyleModel",
          "model_module_version": "1.5.0",
          "state": {
            "_model_module": "@jupyter-widgets/controls",
            "_model_module_version": "1.5.0",
            "_model_name": "ProgressStyleModel",
            "_view_count": null,
            "_view_module": "@jupyter-widgets/base",
            "_view_module_version": "1.2.0",
            "_view_name": "StyleView",
            "bar_color": null,
            "description_width": ""
          }
        },
        "86b1cb16044843b687d5abaa222ae7ba": {
          "model_module": "@jupyter-widgets/base",
          "model_name": "LayoutModel",
          "model_module_version": "1.2.0",
          "state": {
            "_model_module": "@jupyter-widgets/base",
            "_model_module_version": "1.2.0",
            "_model_name": "LayoutModel",
            "_view_count": null,
            "_view_module": "@jupyter-widgets/base",
            "_view_module_version": "1.2.0",
            "_view_name": "LayoutView",
            "align_content": null,
            "align_items": null,
            "align_self": null,
            "border": null,
            "bottom": null,
            "display": null,
            "flex": null,
            "flex_flow": null,
            "grid_area": null,
            "grid_auto_columns": null,
            "grid_auto_flow": null,
            "grid_auto_rows": null,
            "grid_column": null,
            "grid_gap": null,
            "grid_row": null,
            "grid_template_areas": null,
            "grid_template_columns": null,
            "grid_template_rows": null,
            "height": null,
            "justify_content": null,
            "justify_items": null,
            "left": null,
            "margin": null,
            "max_height": null,
            "max_width": null,
            "min_height": null,
            "min_width": null,
            "object_fit": null,
            "object_position": null,
            "order": null,
            "overflow": null,
            "overflow_x": null,
            "overflow_y": null,
            "padding": null,
            "right": null,
            "top": null,
            "visibility": null,
            "width": null
          }
        },
        "562fe3e13ed74ea2b567408e4b5fcae2": {
          "model_module": "@jupyter-widgets/controls",
          "model_name": "DescriptionStyleModel",
          "model_module_version": "1.5.0",
          "state": {
            "_model_module": "@jupyter-widgets/controls",
            "_model_module_version": "1.5.0",
            "_model_name": "DescriptionStyleModel",
            "_view_count": null,
            "_view_module": "@jupyter-widgets/base",
            "_view_module_version": "1.2.0",
            "_view_name": "StyleView",
            "description_width": ""
          }
        }
      }
    }
  },
  "cells": [
    {
      "cell_type": "markdown",
      "metadata": {
        "id": "view-in-github",
        "colab_type": "text"
      },
      "source": [
        "<a href=\"https://colab.research.google.com/github/Tonio-V98T/Kaibutsu/blob/main/Production_8A_FinBERT.ipynb\" target=\"_parent\"><img src=\"https://colab.research.google.com/assets/colab-badge.svg\" alt=\"Open In Colab\"/></a>"
      ]
    },
    {
      "cell_type": "markdown",
      "source": [
        "# **FinBERT: Final**"
      ],
      "metadata": {
        "id": "l9bh8LbWjlOG"
      }
    },
    {
      "cell_type": "markdown",
      "source": [
        "## **Global Settings**"
      ],
      "metadata": {
        "id": "32MU742zjpAF"
      }
    },
    {
      "cell_type": "markdown",
      "source": [
        "Install libraries"
      ],
      "metadata": {
        "id": "Hznqq02njsVL"
      }
    },
    {
      "cell_type": "code",
      "execution_count": null,
      "metadata": {
        "id": "PtDZJoPgjMzn"
      },
      "outputs": [],
      "source": [
        "%%capture\n",
        "!pip install transformers datasets evaluate xformers"
      ]
    },
    {
      "cell_type": "markdown",
      "source": [
        "Load libraries"
      ],
      "metadata": {
        "id": "68fCUBW8jyDJ"
      }
    },
    {
      "cell_type": "code",
      "source": [
        "from datasets import Dataset, DatasetDict\n",
        "from scipy.special import softmax\n",
        "from torch.utils.data import DataLoader\n",
        "from tqdm.auto import tqdm\n",
        "from transformers import (AutoTokenizer, AutoModelForSequenceClassification,\n",
        "                          DataCollatorWithPadding, pipeline)\n",
        "import datasets\n",
        "import datetime\n",
        "import evaluate\n",
        "import huggingface_hub\n",
        "import numpy as np\n",
        "import pandas as pd\n",
        "import torch\n",
        "import transformers"
      ],
      "metadata": {
        "id": "S3P2AmyYj0mx"
      },
      "execution_count": null,
      "outputs": []
    },
    {
      "cell_type": "markdown",
      "source": [
        "Set global printing options"
      ],
      "metadata": {
        "id": "byKX15Z-kB5i"
      }
    },
    {
      "cell_type": "code",
      "source": [
        "# Set printing options within the whole environment\n",
        "pd.set_option('display.max_rows', None)\n",
        "pd.set_option('display.max_columns', None)\n",
        "pd.set_option('display.width', None)\n",
        "pd.set_option('display.max_colwidth', None)\n",
        "pd.set_option('expand_frame_repr', False)"
      ],
      "metadata": {
        "id": "IRLZmhaRkEqc"
      },
      "execution_count": null,
      "outputs": []
    },
    {
      "cell_type": "markdown",
      "source": [
        "Define computing device"
      ],
      "metadata": {
        "id": "h2h712-ttRgq"
      }
    },
    {
      "cell_type": "code",
      "source": [
        "torch.cuda.is_available()\n",
        "device = \"cuda:0\" if torch.cuda.is_available() else \"cpu\"\n",
        "print((device))"
      ],
      "metadata": {
        "colab": {
          "base_uri": "https://localhost:8080/"
        },
        "id": "TCPLyWontTTA",
        "outputId": "55e82a94-b1b6-42c9-d4c6-1dd77757275d"
      },
      "execution_count": null,
      "outputs": [
        {
          "output_type": "stream",
          "name": "stdout",
          "text": [
            "cuda:0\n"
          ]
        }
      ]
    },
    {
      "cell_type": "markdown",
      "source": [
        "## **Data**"
      ],
      "metadata": {
        "id": "tkritc5JkIFv"
      }
    },
    {
      "cell_type": "markdown",
      "source": [
        "Mount Drive"
      ],
      "metadata": {
        "id": "dPTTus0vkdd0"
      }
    },
    {
      "cell_type": "code",
      "source": [
        "from google.colab import drive\n",
        "drive.mount('/content/drive')"
      ],
      "metadata": {
        "colab": {
          "base_uri": "https://localhost:8080/"
        },
        "id": "wvF7crYUkeyv",
        "outputId": "55651bbf-185a-4a48-bd51-2aab6ec7a1f7"
      },
      "execution_count": null,
      "outputs": [
        {
          "output_type": "stream",
          "name": "stdout",
          "text": [
            "Mounted at /content/drive\n"
          ]
        }
      ]
    },
    {
      "cell_type": "markdown",
      "source": [
        "Load ordered dataset (as in prototype 7)"
      ],
      "metadata": {
        "id": "ce9_DTPckVNE"
      }
    },
    {
      "cell_type": "code",
      "source": [
        "filepath = \"/content/drive/MyDrive/Kaibutsu/db_desc_ordered.csv\"\n",
        "\n",
        "db_desc = pd.read_csv(filepath)\n",
        "db_desc.drop(db_desc.columns[[0]], axis=1, inplace=True)\n",
        "\n",
        "print(db_desc.iloc[0:5, :])"
      ],
      "metadata": {
        "colab": {
          "base_uri": "https://localhost:8080/"
        },
        "id": "-prTVoSWkZdh",
        "outputId": "963f52c7-e231-46de-f948-f43d37e0424e"
      },
      "execution_count": null,
      "outputs": [
        {
          "output_type": "stream",
          "name": "stdout",
          "text": [
            "         Date                    Company                                                                                                                      Desc\n",
            "0  2023-01-02  Builders FirstSource Inc.                                      4 Top Long-Term Stocks For 2023: 3 New Picks Join Google (Plus A Bonus Rule Breaker)\n",
            "1  2023-01-03  Builders FirstSource Inc.                     Advisor Group Inc. boosted its holdings in shares of Builders FirstSource by 26.6% in the 3rd quarter\n",
            "2  2023-01-03  Builders FirstSource Inc.                                                         Builders FirstSource Inc.: or reduced their stakes in the company\n",
            "3  2023-01-03  Builders FirstSource Inc.                                                                                     Builders FirstSource Stock Down 0.5 %\n",
            "4  2023-01-03  Builders FirstSource Inc.  Builders FirstSource Inc.: The company reported $5.20 earnings per share for the quarter, topping the consensus estimate\n"
          ]
        }
      ]
    },
    {
      "cell_type": "markdown",
      "source": [
        "Convert from DataFrame to Dataset. Required to use the \"map()\" method"
      ],
      "metadata": {
        "id": "ViWlx6u72LNe"
      }
    },
    {
      "cell_type": "code",
      "source": [
        "db_sa = Dataset.from_dict(db_desc)\n",
        "print(db_sa)"
      ],
      "metadata": {
        "colab": {
          "base_uri": "https://localhost:8080/"
        },
        "id": "idBkwDNS2OH9",
        "outputId": "5d36bd82-2239-45f7-8882-9a34f4e188e3"
      },
      "execution_count": null,
      "outputs": [
        {
          "output_type": "stream",
          "name": "stdout",
          "text": [
            "Dataset({\n",
            "    features: ['Date', 'Company', 'Desc'],\n",
            "    num_rows: 31737\n",
            "})\n"
          ]
        }
      ]
    },
    {
      "cell_type": "markdown",
      "source": [
        "## **Data preprocessing**"
      ],
      "metadata": {
        "id": "WXrWWuYHlTEL"
      }
    },
    {
      "cell_type": "markdown",
      "source": [
        "Load tokenizer and data collator"
      ],
      "metadata": {
        "id": "2ywM6tyAlq2e"
      }
    },
    {
      "cell_type": "code",
      "source": [
        "%%capture\n",
        "tokenizer = AutoTokenizer.from_pretrained(\"ProsusAI/finbert\")\n",
        "data_collator = DataCollatorWithPadding(tokenizer=tokenizer)"
      ],
      "metadata": {
        "id": "SRwtGqralYz2"
      },
      "execution_count": null,
      "outputs": []
    },
    {
      "cell_type": "markdown",
      "source": [
        "Define custom tokenization function"
      ],
      "metadata": {
        "id": "eD3VdesglZeB"
      }
    },
    {
      "cell_type": "code",
      "source": [
        "def tokenize_function(dataset):\n",
        "    input_ids = []\n",
        "    token_type_ids = []\n",
        "    attention_mask = []\n",
        "\n",
        "    for i in range(0, len(dataset[\"Desc\"])):\n",
        "\n",
        "        token_temp = tokenizer(dataset[\"Desc\"][i], truncation=True) #,\n",
        "                               #padding = \"max_length\", max_length = 68) #return_tensors = \"pt\").to(device)\n",
        "\n",
        "        input_ids.append(token_temp[\"input_ids\"])\n",
        "        token_type_ids.append(token_temp[\"token_type_ids\"])\n",
        "        attention_mask.append(token_temp[\"attention_mask\"])\n",
        "\n",
        "    return {\"input_ids\" : input_ids, \"token_type_ids\" : token_type_ids,\n",
        "            \"attention_mask\" : attention_mask, }"
      ],
      "metadata": {
        "id": "K9VbbqTElmha"
      },
      "execution_count": null,
      "outputs": []
    },
    {
      "cell_type": "markdown",
      "source": [
        "Apply tokenization"
      ],
      "metadata": {
        "id": "1HBWdlytsyBt"
      }
    },
    {
      "cell_type": "code",
      "source": [
        "original_columns = db_sa.column_names\n",
        "tokenized_sentences = db_sa.map(tokenize_function,\n",
        "                                batched = True,\n",
        "                                remove_columns = original_columns)"
      ],
      "metadata": {
        "colab": {
          "base_uri": "https://localhost:8080/",
          "height": 49,
          "referenced_widgets": [
            "7f3374efb1bd4cbd871c5dc8deb7ef41",
            "5153c81427a84ecc876379379eaa1783",
            "100a803ed1a24e0788eb68f3d5eedf54",
            "0d9e869432ad4a3896c6e756bcae06e3",
            "2fee5e6e848b44c1a15508399dc9d6eb",
            "76f37e95525b4817881918b8e3f5f031",
            "d572bfd948914007a0f1e8a1837d8c16",
            "2ad1c170a01a4d97949136dfb994c982",
            "c29e00a0c7a345e28d0c52f872d0d539",
            "6b6847dbcfab46f19fc4f7ce4ebf8094",
            "7ecece2a94f243a582579158eb95de8f"
          ]
        },
        "id": "fL9kIqn3rcbB",
        "outputId": "b31e593b-6495-487d-f37c-f845dedc584e"
      },
      "execution_count": null,
      "outputs": [
        {
          "output_type": "display_data",
          "data": {
            "text/plain": [
              "Map:   0%|          | 0/31737 [00:00<?, ? examples/s]"
            ],
            "application/vnd.jupyter.widget-view+json": {
              "version_major": 2,
              "version_minor": 0,
              "model_id": "7f3374efb1bd4cbd871c5dc8deb7ef41"
            }
          },
          "metadata": {}
        }
      ]
    },
    {
      "cell_type": "markdown",
      "source": [
        "Tokenization check"
      ],
      "metadata": {
        "id": "4Ylsx7t43X8A"
      }
    },
    {
      "cell_type": "code",
      "source": [
        "print(tokenized_sentences, \"\\n\",\n",
        "      tokenized_sentences[\"input_ids\"][0:3], \"\\n\",\n",
        "      tokenized_sentences[\"token_type_ids\"][0:3], \"\\n\",\n",
        "      tokenized_sentences[\"attention_mask\"][0:3])"
      ],
      "metadata": {
        "colab": {
          "base_uri": "https://localhost:8080/"
        },
        "id": "9PBYbMmc3Z1_",
        "outputId": "864bf63b-ff04-442c-d980-439e99ee54b8"
      },
      "execution_count": null,
      "outputs": [
        {
          "output_type": "stream",
          "name": "stdout",
          "text": [
            "Dataset({\n",
            "    features: ['input_ids', 'token_type_ids', 'attention_mask'],\n",
            "    num_rows: 31737\n",
            "}) \n",
            " [[101, 1018, 2327, 2146, 1011, 2744, 15768, 2005, 16798, 2509, 1024, 1017, 2047, 11214, 3693, 8224, 1006, 4606, 1037, 6781, 3627, 24733, 1007, 102], [101, 8619, 2177, 4297, 1012, 28043, 2049, 9583, 1999, 6661, 1997, 16472, 2034, 6499, 3126, 3401, 2011, 2656, 1012, 1020, 1003, 1999, 1996, 3822, 4284, 102], [101, 16472, 2034, 6499, 3126, 3401, 4297, 1012, 1024, 2030, 4359, 2037, 7533, 1999, 1996, 2194, 102]] \n",
            " [[0, 0, 0, 0, 0, 0, 0, 0, 0, 0, 0, 0, 0, 0, 0, 0, 0, 0, 0, 0, 0, 0, 0, 0], [0, 0, 0, 0, 0, 0, 0, 0, 0, 0, 0, 0, 0, 0, 0, 0, 0, 0, 0, 0, 0, 0, 0, 0, 0, 0], [0, 0, 0, 0, 0, 0, 0, 0, 0, 0, 0, 0, 0, 0, 0, 0, 0]] \n",
            " [[1, 1, 1, 1, 1, 1, 1, 1, 1, 1, 1, 1, 1, 1, 1, 1, 1, 1, 1, 1, 1, 1, 1, 1], [1, 1, 1, 1, 1, 1, 1, 1, 1, 1, 1, 1, 1, 1, 1, 1, 1, 1, 1, 1, 1, 1, 1, 1, 1, 1], [1, 1, 1, 1, 1, 1, 1, 1, 1, 1, 1, 1, 1, 1, 1, 1, 1]]\n"
          ]
        }
      ]
    },
    {
      "cell_type": "markdown",
      "source": [
        "**DEBUG ONLY: to check that the order of the sentences was kept**"
      ],
      "metadata": {
        "id": "Dwp_156hVps_"
      }
    },
    {
      "cell_type": "code",
      "source": [
        "# debug only\n",
        "tokenizer.batch_decode([101, 1018, 2327, 2146, 1011, 2744, 15768, 2005, 16798, 2509, 1024, 1017, 2047, 11214, 3693, 8224, 1006, 4606, 1037, 6781, 3627, 24733, 1007, 102], skip_special_tokens=True)"
      ],
      "metadata": {
        "id": "wznMoty5VzS6"
      },
      "execution_count": null,
      "outputs": []
    },
    {
      "cell_type": "markdown",
      "source": [
        "Use a dataloader to prepare batches"
      ],
      "metadata": {
        "id": "8mFiTpiKs1F2"
      }
    },
    {
      "cell_type": "code",
      "source": [
        "dataloader = DataLoader(tokenized_sentences, batch_size = 16,\n",
        "                        collate_fn = data_collator)"
      ],
      "metadata": {
        "id": "jt27ZI8Ws3-T"
      },
      "execution_count": null,
      "outputs": []
    },
    {
      "cell_type": "markdown",
      "source": [
        "Check"
      ],
      "metadata": {
        "id": "nYQuKPHmw0-5"
      }
    },
    {
      "cell_type": "code",
      "source": [
        "# debug only\n",
        "\n",
        "temp = next(iter(dataloader))\n",
        "print(temp)\n",
        "print(type(temp))\n",
        "#print(temp.items())"
      ],
      "metadata": {
        "colab": {
          "base_uri": "https://localhost:8080/"
        },
        "id": "ZC15t7saw2Xr",
        "outputId": "3edc5d8a-3e72-4787-c8a1-4164aeca617f"
      },
      "execution_count": null,
      "outputs": [
        {
          "output_type": "stream",
          "name": "stderr",
          "text": [
            "You're using a BertTokenizerFast tokenizer. Please note that with a fast tokenizer, using the `__call__` method is faster than using a method to encode the text followed by a call to the `pad` method to get a padded encoding.\n"
          ]
        },
        {
          "output_type": "stream",
          "name": "stdout",
          "text": [
            "{'input_ids': tensor([[  101,  1018,  2327,  2146,  1011,  2744, 15768,  2005, 16798,  2509,\n",
            "          1024,  1017,  2047, 11214,  3693,  8224,  1006,  4606,  1037,  6781,\n",
            "          3627, 24733,  1007,   102,     0,     0,     0,     0,     0,     0,\n",
            "             0,     0,     0,     0,     0],\n",
            "        [  101,  8619,  2177,  4297,  1012, 28043,  2049,  9583,  1999,  6661,\n",
            "          1997, 16472,  2034,  6499,  3126,  3401,  2011,  2656,  1012,  1020,\n",
            "          1003,  1999,  1996,  3822,  4284,   102,     0,     0,     0,     0,\n",
            "             0,     0,     0,     0,     0],\n",
            "        [  101, 16472,  2034,  6499,  3126,  3401,  4297,  1012,  1024,  2030,\n",
            "          4359,  2037,  7533,  1999,  1996,  2194,   102,     0,     0,     0,\n",
            "             0,     0,     0,     0,     0,     0,     0,     0,     0,     0,\n",
            "             0,     0,     0,     0,     0],\n",
            "        [  101, 16472,  2034,  6499,  3126,  3401,  4518,  2091,  1014,  1012,\n",
            "          1019,  1003,   102,     0,     0,     0,     0,     0,     0,     0,\n",
            "             0,     0,     0,     0,     0,     0,     0,     0,     0,     0,\n",
            "             0,     0,     0,     0,     0],\n",
            "        [  101, 16472,  2034,  6499,  3126,  3401,  4297,  1012,  1024,  1996,\n",
            "          2194,  2988,  1002,  1019,  1012,  2322, 16565,  2566,  3745,  2005,\n",
            "          1996,  4284,  1010, 22286,  1996, 10465, 10197,   102,     0,     0,\n",
            "             0,     0,     0,     0,     0],\n",
            "        [  101, 16472,  2034,  6499,  3126,  3401,  4297,  1012,  1024,  1996,\n",
            "          2194,  2018,  6599,  1997,  1002,  1019,  1012,  6146,  4551,  2005,\n",
            "          1996,  4284,  1010,  4102,  2000,  1996, 10465, 10197,  1997,  1002,\n",
            "          1019,  1012,  2570,  4551,   102],\n",
            "        [  101, 18288, 19939,  2008, 16472,  2034,  6499,  3126,  3401,  1010,\n",
            "          4297,  1012,  2097,  2695,  2459,  1012,  5989, 16565,  2566,  3745,\n",
            "          2005,  1996,  2783, 10807,  2095,   102,     0,     0,     0,     0,\n",
            "             0,     0,     0,     0,     0],\n",
            "        [  101, 21981, 22427,  6668,  2037,  4539,  3976,  2006, 16472,  2034,\n",
            "          6499,  3126,  3401,  2013,  1002,  7287,  1012,  4002,  2000,  1002,\n",
            "          3770,  1012,  4002,   102,     0,     0,     0,     0,     0,     0,\n",
            "             0,     0,     0,     0,     0]]), 'token_type_ids': tensor([[0, 0, 0, 0, 0, 0, 0, 0, 0, 0, 0, 0, 0, 0, 0, 0, 0, 0, 0, 0, 0, 0, 0, 0,\n",
            "         0, 0, 0, 0, 0, 0, 0, 0, 0, 0, 0],\n",
            "        [0, 0, 0, 0, 0, 0, 0, 0, 0, 0, 0, 0, 0, 0, 0, 0, 0, 0, 0, 0, 0, 0, 0, 0,\n",
            "         0, 0, 0, 0, 0, 0, 0, 0, 0, 0, 0],\n",
            "        [0, 0, 0, 0, 0, 0, 0, 0, 0, 0, 0, 0, 0, 0, 0, 0, 0, 0, 0, 0, 0, 0, 0, 0,\n",
            "         0, 0, 0, 0, 0, 0, 0, 0, 0, 0, 0],\n",
            "        [0, 0, 0, 0, 0, 0, 0, 0, 0, 0, 0, 0, 0, 0, 0, 0, 0, 0, 0, 0, 0, 0, 0, 0,\n",
            "         0, 0, 0, 0, 0, 0, 0, 0, 0, 0, 0],\n",
            "        [0, 0, 0, 0, 0, 0, 0, 0, 0, 0, 0, 0, 0, 0, 0, 0, 0, 0, 0, 0, 0, 0, 0, 0,\n",
            "         0, 0, 0, 0, 0, 0, 0, 0, 0, 0, 0],\n",
            "        [0, 0, 0, 0, 0, 0, 0, 0, 0, 0, 0, 0, 0, 0, 0, 0, 0, 0, 0, 0, 0, 0, 0, 0,\n",
            "         0, 0, 0, 0, 0, 0, 0, 0, 0, 0, 0],\n",
            "        [0, 0, 0, 0, 0, 0, 0, 0, 0, 0, 0, 0, 0, 0, 0, 0, 0, 0, 0, 0, 0, 0, 0, 0,\n",
            "         0, 0, 0, 0, 0, 0, 0, 0, 0, 0, 0],\n",
            "        [0, 0, 0, 0, 0, 0, 0, 0, 0, 0, 0, 0, 0, 0, 0, 0, 0, 0, 0, 0, 0, 0, 0, 0,\n",
            "         0, 0, 0, 0, 0, 0, 0, 0, 0, 0, 0]]), 'attention_mask': tensor([[1, 1, 1, 1, 1, 1, 1, 1, 1, 1, 1, 1, 1, 1, 1, 1, 1, 1, 1, 1, 1, 1, 1, 1,\n",
            "         0, 0, 0, 0, 0, 0, 0, 0, 0, 0, 0],\n",
            "        [1, 1, 1, 1, 1, 1, 1, 1, 1, 1, 1, 1, 1, 1, 1, 1, 1, 1, 1, 1, 1, 1, 1, 1,\n",
            "         1, 1, 0, 0, 0, 0, 0, 0, 0, 0, 0],\n",
            "        [1, 1, 1, 1, 1, 1, 1, 1, 1, 1, 1, 1, 1, 1, 1, 1, 1, 0, 0, 0, 0, 0, 0, 0,\n",
            "         0, 0, 0, 0, 0, 0, 0, 0, 0, 0, 0],\n",
            "        [1, 1, 1, 1, 1, 1, 1, 1, 1, 1, 1, 1, 1, 0, 0, 0, 0, 0, 0, 0, 0, 0, 0, 0,\n",
            "         0, 0, 0, 0, 0, 0, 0, 0, 0, 0, 0],\n",
            "        [1, 1, 1, 1, 1, 1, 1, 1, 1, 1, 1, 1, 1, 1, 1, 1, 1, 1, 1, 1, 1, 1, 1, 1,\n",
            "         1, 1, 1, 1, 0, 0, 0, 0, 0, 0, 0],\n",
            "        [1, 1, 1, 1, 1, 1, 1, 1, 1, 1, 1, 1, 1, 1, 1, 1, 1, 1, 1, 1, 1, 1, 1, 1,\n",
            "         1, 1, 1, 1, 1, 1, 1, 1, 1, 1, 1],\n",
            "        [1, 1, 1, 1, 1, 1, 1, 1, 1, 1, 1, 1, 1, 1, 1, 1, 1, 1, 1, 1, 1, 1, 1, 1,\n",
            "         1, 1, 0, 0, 0, 0, 0, 0, 0, 0, 0],\n",
            "        [1, 1, 1, 1, 1, 1, 1, 1, 1, 1, 1, 1, 1, 1, 1, 1, 1, 1, 1, 1, 1, 1, 1, 1,\n",
            "         0, 0, 0, 0, 0, 0, 0, 0, 0, 0, 0]])}\n",
            "<class 'transformers.tokenization_utils_base.BatchEncoding'>\n"
          ]
        }
      ]
    },
    {
      "cell_type": "markdown",
      "source": [
        "## **Model setup**"
      ],
      "metadata": {
        "id": "JmEioc1okiND"
      }
    },
    {
      "cell_type": "markdown",
      "source": [
        "Load model"
      ],
      "metadata": {
        "id": "5cG6BWC-kkfv"
      }
    },
    {
      "cell_type": "code",
      "source": [
        "%%capture\n",
        "model = AutoModelForSequenceClassification.from_pretrained(\"ProsusAI/finbert\").to(device)"
      ],
      "metadata": {
        "id": "7-Je8oaiknRH"
      },
      "execution_count": null,
      "outputs": []
    },
    {
      "cell_type": "markdown",
      "source": [
        "## **Inference**"
      ],
      "metadata": {
        "id": "z-_b2suJBuGw"
      }
    },
    {
      "cell_type": "markdown",
      "source": [
        "Process the inputs"
      ],
      "metadata": {
        "id": "jK5v0MWflQ6W"
      }
    },
    {
      "cell_type": "code",
      "source": [
        "print(model.generation_config)"
      ],
      "metadata": {
        "colab": {
          "base_uri": "https://localhost:8080/"
        },
        "id": "LWfMvKH5z2sm",
        "outputId": "e0817ba4-c5e3-4606-e7e4-22480d476a63"
      },
      "execution_count": null,
      "outputs": [
        {
          "output_type": "stream",
          "name": "stdout",
          "text": [
            "None\n"
          ]
        }
      ]
    },
    {
      "cell_type": "code",
      "source": [
        "progress_bar_outputs = tqdm(dataloader)\n",
        "outputs = []\n",
        "\n",
        "model.eval()\n",
        "with torch.no_grad():\n",
        "    for index, batch in enumerate(dataloader):\n",
        "        outputs_temp = model(input_ids = batch[\"input_ids\"].to(device),\n",
        "                             token_type_ids = batch[\"token_type_ids\"].to(device),\n",
        "                             attention_mask = batch[\"attention_mask\"].to(device))#,\n",
        "                                      #pad_token_id = tokenizer.eos_token_id)\n",
        "        outputs.append(outputs_temp)\n",
        "        progress_bar_outputs.update(1)\n",
        "\n",
        "print(outputs[0:4])"
      ],
      "metadata": {
        "colab": {
          "base_uri": "https://localhost:8080/",
          "height": 1000,
          "referenced_widgets": [
            "d61ed47104734d8f80a1fc09f9b0faa6",
            "85f041fe6ed2495fb7ee6f5d8f313db3",
            "b148f560f0ad46a7aac72d72b09069cc",
            "b32181760ab24b02955522fc54a85944",
            "63f4f795d27f4cd68daae5677d43794f",
            "4f4c5f61971344edb4ec14217d14ba6d",
            "6730574669c04db78ca9e542ff513e91",
            "608e5ccabd5b4da9aa5e590fbe7065ac",
            "513adc6ac49a4291a4cf8513a64493d5",
            "86b1cb16044843b687d5abaa222ae7ba",
            "562fe3e13ed74ea2b567408e4b5fcae2"
          ]
        },
        "id": "HWENF2ZfxcUH",
        "outputId": "76890772-ae22-4fa7-cf73-be3d0f7b9c0e"
      },
      "execution_count": null,
      "outputs": [
        {
          "output_type": "display_data",
          "data": {
            "text/plain": [
              "  0%|          | 0/1984 [00:00<?, ?it/s]"
            ],
            "application/vnd.jupyter.widget-view+json": {
              "version_major": 2,
              "version_minor": 0,
              "model_id": "d61ed47104734d8f80a1fc09f9b0faa6"
            }
          },
          "metadata": {}
        },
        {
          "output_type": "stream",
          "name": "stderr",
          "text": [
            "You're using a BertTokenizerFast tokenizer. Please note that with a fast tokenizer, using the `__call__` method is faster than using a method to encode the text followed by a call to the `pad` method to get a padded encoding.\n"
          ]
        },
        {
          "output_type": "stream",
          "name": "stdout",
          "text": [
            "[SequenceClassifierOutput(loss=None, logits=tensor([[ 0.0984, -1.9341,  2.0447],\n",
            "        [ 2.0180, -2.1471, -1.1404],\n",
            "        [-1.5233,  0.6568,  1.7242],\n",
            "        [-1.7823,  2.8259, -0.8059],\n",
            "        [ 2.0154, -1.5227, -1.6379],\n",
            "        [ 0.1896,  1.2642, -2.0788],\n",
            "        [ 0.7737, -1.5080,  0.4280],\n",
            "        [-1.0280,  1.1669, -0.1524],\n",
            "        [-1.2686,  1.6720, -0.1076],\n",
            "        [-1.2449,  1.6704, -0.2486],\n",
            "        [ 2.0741, -2.0544, -1.3821],\n",
            "        [-0.1123, -2.0769,  2.4339],\n",
            "        [-1.5595,  2.0414,  0.4150],\n",
            "        [ 1.7921, -2.0592, -1.0333],\n",
            "        [-0.6071, -0.2591,  1.0123],\n",
            "        [-1.6071,  2.2644, -0.0152]], device='cuda:0'), hidden_states=None, attentions=None), SequenceClassifierOutput(loss=None, logits=tensor([[-1.6703,  2.8214, -0.9254],\n",
            "        [ 1.9805, -1.0615, -1.8579],\n",
            "        [ 0.9748, -1.7796,  0.4614],\n",
            "        [ 0.1858,  0.0106, -0.8916],\n",
            "        [ 0.3742, -2.4239,  2.1724],\n",
            "        [ 2.0030, -1.8632, -1.4554],\n",
            "        [-1.8737,  2.9315, -0.4484],\n",
            "        [-1.7127,  2.6881, -0.5035],\n",
            "        [-1.6561,  2.5660, -0.4768],\n",
            "        [ 1.9626, -1.0959, -1.8359],\n",
            "        [-0.0686,  1.5763, -2.0347],\n",
            "        [ 0.8283, -1.8452,  0.8904],\n",
            "        [ 1.9620, -2.5246, -0.5033],\n",
            "        [-0.2302, -1.9717,  2.4799],\n",
            "        [-1.1462,  1.5876, -0.2010],\n",
            "        [-1.2238,  1.8790, -0.4561]], device='cuda:0'), hidden_states=None, attentions=None), SequenceClassifierOutput(loss=None, logits=tensor([[-1.5633,  2.4410, -0.2826],\n",
            "        [-0.2319,  1.7767, -2.0168],\n",
            "        [ 0.8547, -1.7845,  0.7518],\n",
            "        [-0.5445, -1.3145,  2.0266],\n",
            "        [-0.7719, -1.2596,  2.4648],\n",
            "        [-0.9262, -0.8551,  2.3932],\n",
            "        [-0.7159, -0.8500,  1.9060],\n",
            "        [-1.7093,  2.4973, -0.2148],\n",
            "        [ 2.0705, -1.8856, -1.5283],\n",
            "        [ 2.0750, -1.9076, -1.4997],\n",
            "        [ 1.0541, -0.9355, -1.1141],\n",
            "        [ 1.8878, -0.8356, -2.0281],\n",
            "        [ 0.2304,  1.2370, -2.1175],\n",
            "        [ 0.4651, -1.2605,  0.6657],\n",
            "        [ 1.8241, -2.4396, -0.5816],\n",
            "        [-1.5681,  2.4815, -0.4258]], device='cuda:0'), hidden_states=None, attentions=None), SequenceClassifierOutput(loss=None, logits=tensor([[-0.8905,  1.5045, -0.6382],\n",
            "        [-1.5209,  2.4019, -0.2565],\n",
            "        [-1.3914,  1.6004,  0.1986],\n",
            "        [-1.7776,  2.9815, -0.8893],\n",
            "        [ 2.0899, -1.9343, -1.4906],\n",
            "        [ 1.9989, -2.5006, -0.6491],\n",
            "        [ 1.9708, -2.5725, -0.4736],\n",
            "        [ 1.9709, -2.5047, -0.5403],\n",
            "        [ 1.9703, -1.0603, -1.9262],\n",
            "        [-0.2319,  1.7767, -2.0168],\n",
            "        [ 0.6054, -1.0569,  0.0810],\n",
            "        [-1.6420,  2.3232, -0.0208],\n",
            "        [-1.6504,  2.5837, -0.4085],\n",
            "        [-1.2114,  1.6644,  0.1076],\n",
            "        [-1.7127,  2.6881, -0.5035],\n",
            "        [ 0.1313, -2.2510,  2.3108]], device='cuda:0'), hidden_states=None, attentions=None)]\n"
          ]
        }
      ]
    },
    {
      "cell_type": "markdown",
      "source": [
        "## **Outputs post-processing**"
      ],
      "metadata": {
        "id": "8x6Y6kqBB3hP"
      }
    },
    {
      "cell_type": "markdown",
      "source": [
        "Extract logits"
      ],
      "metadata": {
        "id": "4b3Yt34nApq_"
      }
    },
    {
      "cell_type": "code",
      "source": [
        "logits= []\n",
        "\n",
        "for i in outputs:\n",
        "  logits_temp = i.logits\n",
        "  logits.append(logits_temp)\n",
        "\n",
        "print(logits[0])"
      ],
      "metadata": {
        "colab": {
          "base_uri": "https://localhost:8080/"
        },
        "id": "qbRvsztTArZ9",
        "outputId": "5fbf40d3-23f5-46f8-cd91-7701aa6d3d53"
      },
      "execution_count": null,
      "outputs": [
        {
          "output_type": "stream",
          "name": "stdout",
          "text": [
            "tensor([[ 0.0984, -1.9341,  2.0447],\n",
            "        [ 2.0180, -2.1471, -1.1404],\n",
            "        [-1.5233,  0.6568,  1.7242],\n",
            "        [-1.7823,  2.8259, -0.8059],\n",
            "        [ 2.0154, -1.5227, -1.6379],\n",
            "        [ 0.1896,  1.2642, -2.0788],\n",
            "        [ 0.7737, -1.5080,  0.4280],\n",
            "        [-1.0280,  1.1669, -0.1524],\n",
            "        [-1.2686,  1.6720, -0.1076],\n",
            "        [-1.2449,  1.6704, -0.2486],\n",
            "        [ 2.0741, -2.0544, -1.3821],\n",
            "        [-0.1123, -2.0769,  2.4339],\n",
            "        [-1.5595,  2.0414,  0.4150],\n",
            "        [ 1.7921, -2.0592, -1.0333],\n",
            "        [-0.6071, -0.2591,  1.0123],\n",
            "        [-1.6071,  2.2644, -0.0152]], device='cuda:0')\n"
          ]
        }
      ]
    },
    {
      "cell_type": "markdown",
      "source": [
        "**[DEBUG ONLY: for one batch of logits]** Extract predicted class and corresponding probability"
      ],
      "metadata": {
        "id": "vpueNtAfCGQ7"
      }
    },
    {
      "cell_type": "code",
      "source": [
        "print(model.config.id2label, \"\\n\")\n",
        "print(model.config.num_labels)\n",
        "\n",
        "predicted_class = []\n",
        "predicted_prob = []\n",
        "\n",
        "\n",
        "batch_logits = logits[0]\n",
        "print(batch_logits)\n",
        "\n",
        "# convert tensor batch to list\n",
        "batch_logits_list = torch.Tensor.tolist(batch_logits)\n",
        "print(batch_logits_list)\n",
        "\n",
        "for individual_logits in batch_logits_list:\n",
        "    # numerical classification\n",
        "    classification_id = np.argmax(individual_logits)\n",
        "    print(classification_id)\n",
        "\n",
        "    # string classification\n",
        "    classification_str = model.config.id2label[classification_id]\n",
        "    print(classification_str)\n",
        "\n",
        "    # get predicted probs for each class\n",
        "    predicted_probabilities = softmax(individual_logits)\n",
        "    print(predicted_probabilities)\n",
        "\n",
        "    # highest pro (prob of predicted class)\n",
        "    highest_probability = max(predicted_probabilities)\n",
        "    print(highest_probability, \"\\n\")\n",
        "\n",
        "    # append results\n",
        "    predicted_class.append(classification_str)\n",
        "    predicted_prob.append(highest_probability)\n",
        "\n",
        "# create dictionary\n",
        "predictions_dict = {\"Class\" : predicted_class,\n",
        "                    \"Probability\" : predicted_prob, }\n",
        "\n",
        "print(predictions_dict)\n",
        "\n",
        "# create dataframe to export\n",
        "predictions = pd.DataFrame.from_dict(predictions_dict)\n",
        "print(predictions)"
      ],
      "metadata": {
        "colab": {
          "base_uri": "https://localhost:8080/"
        },
        "id": "ffR55dQ4EDYn",
        "outputId": "b3cd00ba-e0d8-4d87-9d85-f5777ebe4042"
      },
      "execution_count": null,
      "outputs": [
        {
          "output_type": "stream",
          "name": "stdout",
          "text": [
            "tensor([[ 0.0984, -1.9341,  2.0447],\n",
            "        [ 2.0180, -2.1471, -1.1404],\n",
            "        [-1.5233,  0.6568,  1.7242],\n",
            "        [-1.7823,  2.8259, -0.8059],\n",
            "        [ 2.0154, -1.5227, -1.6379],\n",
            "        [ 0.1896,  1.2642, -2.0788],\n",
            "        [ 0.7737, -1.5080,  0.4280],\n",
            "        [-1.0280,  1.1669, -0.1524]], device='cuda:0')\n",
            "[[0.09844227135181427, -1.9341180324554443, 2.0447239875793457], [2.0180320739746094, -2.1471097469329834, -1.14035964012146], [-1.5233162641525269, 0.6567901372909546, 1.7242425680160522], [-1.7823010683059692, 2.82588791847229, -0.8059448003768921], [2.0154333114624023, -1.5226938724517822, -1.6378545761108398], [0.1896168291568756, 1.2642391920089722, -2.078840494155884], [0.7737278938293457, -1.508023977279663, 0.42797476053237915], [-1.027980923652649, 1.166912317276001, -0.1524118185043335]]\n",
            "2\n",
            "neutral\n",
            "[0.12294677 0.01610599 0.86094724]\n",
            "0.8609472394672112 \n",
            "\n",
            "0\n",
            "positive\n",
            "[0.94516034 0.01467599 0.04016367]\n",
            "0.9451603402650302 \n",
            "\n",
            "2\n",
            "neutral\n",
            "[0.02810986 0.24869489 0.72319525]\n",
            "0.7231952487335951 \n",
            "\n",
            "1\n",
            "negative\n",
            "[0.00961935 0.96484352 0.02553712]\n",
            "0.9648435240171807 \n",
            "\n",
            "0\n",
            "positive\n",
            "[0.94789108 0.02755303 0.02455589]\n",
            "0.9478910831680037 \n",
            "\n",
            "1\n",
            "negative\n",
            "[0.24799383 0.72634583 0.02566034]\n",
            "0.7263458269340857 \n",
            "\n",
            "0\n",
            "positive\n",
            "[0.55254958 0.05641817 0.39103225]\n",
            "0.5525495800033297 \n",
            "\n",
            "1\n",
            "negative\n",
            "[0.08078012 0.72532813 0.19389175]\n",
            "0.7253281300147186 \n",
            "\n",
            "{'Class': ['neutral', 'positive', 'neutral', 'negative', 'positive', 'negative', 'positive', 'negative'], 'Probability': [0.8609472394672112, 0.9451603402650302, 0.7231952487335951, 0.9648435240171807, 0.9478910831680037, 0.7263458269340857, 0.5525495800033297, 0.7253281300147186]}\n",
            "      Class  Probability\n",
            "0   neutral     0.860947\n",
            "1  positive     0.945160\n",
            "2   neutral     0.723195\n",
            "3  negative     0.964844\n",
            "4  positive     0.947891\n",
            "5  negative     0.726346\n",
            "6  positive     0.552550\n",
            "7  negative     0.725328\n"
          ]
        }
      ]
    },
    {
      "cell_type": "markdown",
      "source": [
        "Extract predicted class and corresponding probability"
      ],
      "metadata": {
        "id": "h2BcKxm1SAPl"
      }
    },
    {
      "cell_type": "code",
      "source": [
        "predicted_class = []\n",
        "predicted_prob = []\n",
        "\n",
        "\n",
        "for batch_logits in logits:\n",
        "\n",
        "  # convert tensor batch to list\n",
        "    batch_logits_list = torch.Tensor.tolist(batch_logits)\n",
        "\n",
        "    for individual_logits in batch_logits_list:\n",
        "        # numerical classification\n",
        "        classification_id = np.argmax(individual_logits)\n",
        "\n",
        "        # string classification\n",
        "        classification_str = model.config.id2label[classification_id]\n",
        "\n",
        "        # get predicted probs for each class\n",
        "        predicted_probabilities = softmax(individual_logits)\n",
        "\n",
        "        # highest pro (prob of predicted class)\n",
        "        highest_probability = max(predicted_probabilities)\n",
        "\n",
        "        # append results\n",
        "        predicted_class.append(classification_str)\n",
        "        predicted_prob.append(highest_probability)\n",
        "\n",
        "# create dictionary\n",
        "predictions_dict = {\"Class\" : predicted_class,\n",
        "                    \"Probability\" : predicted_prob, }\n",
        "\n",
        "# create dataframe to export\n",
        "predictions = pd.DataFrame.from_dict(predictions_dict)\n",
        "print(predictions[0:8])"
      ],
      "metadata": {
        "colab": {
          "base_uri": "https://localhost:8080/"
        },
        "id": "F2n2BsqZSB2P",
        "outputId": "b8d6707e-df80-4a4d-fed5-6fa513e554c0"
      },
      "execution_count": null,
      "outputs": [
        {
          "output_type": "stream",
          "name": "stdout",
          "text": [
            "      Class  Probability\n",
            "0   neutral     0.860947\n",
            "1  positive     0.945160\n",
            "2   neutral     0.723195\n",
            "3  negative     0.964844\n",
            "4  positive     0.947891\n",
            "5  negative     0.726345\n",
            "6  positive     0.552550\n",
            "7  negative     0.725329\n"
          ]
        }
      ]
    },
    {
      "cell_type": "markdown",
      "source": [
        "## **Export dataset**"
      ],
      "metadata": {
        "id": "xc_h_K8ITi03"
      }
    },
    {
      "cell_type": "markdown",
      "source": [
        "Concatenate to sentiment dataset"
      ],
      "metadata": {
        "id": "tX01Rc3JUD64"
      }
    },
    {
      "cell_type": "code",
      "source": [
        "production_finbert = pd.concat([db_desc, predictions], axis = \"columns\")\n",
        "print(production_finbert.iloc[0:10, :])"
      ],
      "metadata": {
        "colab": {
          "base_uri": "https://localhost:8080/"
        },
        "id": "BWpK4wceUG38",
        "outputId": "3c2f7205-a99f-4835-d3d8-7d67614a97cd"
      },
      "execution_count": null,
      "outputs": [
        {
          "output_type": "stream",
          "name": "stdout",
          "text": [
            "         Date                    Company                                                                                                                                      Desc     Class  Probability\n",
            "0  2023-01-02  Builders FirstSource Inc.                                                      4 Top Long-Term Stocks For 2023: 3 New Picks Join Google (Plus A Bonus Rule Breaker)   neutral     0.860947\n",
            "1  2023-01-03  Builders FirstSource Inc.                                     Advisor Group Inc. boosted its holdings in shares of Builders FirstSource by 26.6% in the 3rd quarter  positive     0.945160\n",
            "2  2023-01-03  Builders FirstSource Inc.                                                                         Builders FirstSource Inc.: or reduced their stakes in the company   neutral     0.723195\n",
            "3  2023-01-03  Builders FirstSource Inc.                                                                                                     Builders FirstSource Stock Down 0.5 %  negative     0.964844\n",
            "4  2023-01-03  Builders FirstSource Inc.                  Builders FirstSource Inc.: The company reported $5.20 earnings per share for the quarter, topping the consensus estimate  positive     0.947891\n",
            "5  2023-01-03  Builders FirstSource Inc.  Builders FirstSource Inc.: The company had revenue of $5.76 billion for the quarter, compared to the consensus estimate of $5.22 billion  negative     0.726345\n",
            "6  2023-01-03  Builders FirstSource Inc.                          Analysts forecast that Builders FirstSource, Inc. will post 17.97 earnings per share for the current fiscal year  positive     0.552550\n",
            "7  2023-01-03  Builders FirstSource Inc.                                                         Wedbush lowered their target price on Builders FirstSource from $110.00 to $80.00  negative     0.725329\n",
            "8  2023-01-03  Builders FirstSource Inc.                                                  Robert W. Baird lowered their target price on Builders FirstSource from $84.00 to $80.00  negative     0.818641\n",
            "9  2023-01-03  Builders FirstSource Inc.                                             Royal Bank of Canada lowered their price target on Builders FirstSource from $79.00 to $74.00  negative     0.832679\n"
          ]
        }
      ]
    },
    {
      "cell_type": "markdown",
      "source": [
        "Export as .csv"
      ],
      "metadata": {
        "id": "TvDc7WnJTmvJ"
      }
    },
    {
      "cell_type": "code",
      "source": [
        "filename = 'production_finbert.csv'\n",
        "production_finbert.to_csv('/content/drive/MyDrive/Kaibutsu/' + filename)"
      ],
      "metadata": {
        "id": "h9AtS27iTo9x"
      },
      "execution_count": null,
      "outputs": []
    },
    {
      "cell_type": "markdown",
      "source": [
        "## **References**"
      ],
      "metadata": {
        "id": "MPdcgyMaWZ0z"
      }
    },
    {
      "cell_type": "markdown",
      "source": [
        "Dataloader and HF : (https://huggingface.co/docs/datasets/use_with_pytorch#use-with-pytorch)\n",
        "\n",
        "Dataloader class at Torch: (https://pytorch.org/docs/stable/data.html)\n",
        "\n",
        "Padding and it attributes: (https://huggingface.co/docs/transformers/main/en/pad_truncation)\n",
        "\n",
        "Batch encoding class: (https://huggingface.co/transformers/v3.4.0/_modules/transformers/tokenization_utils_base.html)\n",
        "\n",
        "BERT for seq class, at its Forward: (https://huggingface.co/docs/transformers/model_doc/bert#transformers.BertForSequenceClassification)\n",
        "\n",
        "\n",
        "**For the next notebook**\n",
        "\n",
        "Text generation: (https://huggingface.co/docs/transformers/main_classes/text_generation)\n",
        "\n",
        "Text generation strategies: (https://huggingface.co/docs/transformers/generation_strategies#default-text-generation-configuration)\n",
        "\n"
      ],
      "metadata": {
        "id": "mOaXo9bXHXoM"
      }
    }
  ]
}